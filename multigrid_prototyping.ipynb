{
 "cells": [
  {
   "cell_type": "code",
   "execution_count": 1,
   "metadata": {},
   "outputs": [],
   "source": [
    "import numpy as np\n",
    "import matplotlib.pyplot as plt\n",
    "\n",
    "from utils import smooth, system_matrix_1d"
   ]
  },
  {
   "cell_type": "code",
   "execution_count": 2,
   "metadata": {},
   "outputs": [],
   "source": [
    "def restrict(x, sparse=False):\n",
    "    \"\"\"Applies the restriction operator to vector x. \n",
    "\n",
    "    Parameters\n",
    "    ----------\n",
    "    x : numpy.array\n",
    "        vector on finer grid\n",
    "\n",
    "    Returns\n",
    "    ------- \n",
    "    numpy.array\n",
    "        vector on coarse grid\n",
    "    \"\"\"\n",
    "    n = x.shape[0]\n",
    "    nr = int((n-1)/2)\n",
    "    R = np.zeros((nr, n))\n",
    "    R[:,0] = 0.25\n",
    "    R[:,1] = 0.50\n",
    "    R[:,2] = 0.25\n",
    "\n",
    "    # Roll rows of R\n",
    "    r = np.arange(0, 2*R.shape[0], 2)\n",
    "    rows, column_indices = np.ogrid[:R.shape[0], :R.shape[1]]\n",
    "    r[r < 0] += R.shape[1]\n",
    "    column_indices = column_indices - r[:, np.newaxis]\n",
    "    R = R[rows, column_indices]\n",
    "    x_restricted =  np.matmul(R, x)\n",
    "\n",
    "    return x_restricted"
   ]
  },
  {
   "cell_type": "code",
   "execution_count": 3,
   "metadata": {},
   "outputs": [],
   "source": [
    "def interpolate(x, sparse=False):\n",
    "    \"\"\"Applies the interpolation operator to vector x\n",
    "\n",
    "    Parameters\n",
    "    ----------\n",
    "    x : numpy.array\n",
    "        vector on coarse grid\n",
    "\n",
    "    Returns\n",
    "    ------- \n",
    "    numpy.array\n",
    "        vector on fine grid\n",
    "    \"\"\"\n",
    "    # Pad with zeros\n",
    "    x_padded = np.concatenate(([0], x, [0]))\n",
    "    ni = 2*x.shape[0]+1\n",
    "    I = np.zeros((ni, x_padded.shape[0]))\n",
    "    I[::2,0:2] = [0.5, 0.5]\n",
    "    I[1::2,0] = 1\n",
    "\n",
    "    # Roll rows of I\n",
    "    r = np.zeros(I.shape[0]+1)\n",
    "    r[::2] = np.arange((r.shape[0])/2)\n",
    "    r[1::2] = np.arange(r.shape[0]/2)\n",
    "    r = r[1:]\n",
    "\n",
    "    for k in range(r.shape[0]):\n",
    "        I[k,:] = np.roll(I[k,:], int(r[k]))\n",
    "\n",
    "    return np.matmul(I, x_padded)"
   ]
  },
  {
   "cell_type": "code",
   "execution_count": 4,
   "metadata": {},
   "outputs": [],
   "source": [
    "def P(i, f):\n",
    "    \"\"\"Generate the problem for 1-dimensional discrete Poisson equation\n",
    "\n",
    "    Parameters\n",
    "    ----------\n",
    "    i : int\n",
    "        Number of unknowns will be 2**i - 1\n",
    "        \n",
    "    f : function\n",
    "        The load function\n",
    "\n",
    "    Returns\n",
    "    -------\n",
    "    numpy.array\n",
    "        System matrix  \n",
    "    numpy.array\n",
    "        right-hand side\n",
    "    numpy.array\n",
    "        grid\n",
    "    \"\"\"\n",
    "    number_of_points = 2**i + 1\n",
    "    t = np.linspace(0, 1, number_of_points)\n",
    "    T = system_matrix_1d(i)\n",
    "    b = f(t[1:-1])\n",
    "    return T, b, t[1:-1]"
   ]
  },
  {
   "cell_type": "code",
   "execution_count": 5,
   "metadata": {},
   "outputs": [],
   "source": [
    "# Multigrid V-cycle\n",
    "def MGV(b, x, i):\n",
    "    \"\"\"Recursive Multigrid V-cycle algorithm\n",
    "\n",
    "    Parameters\n",
    "    ----------\n",
    "    b_i : numpy.array\n",
    "        right-hand side of problem P(i), fine grid\n",
    "        \n",
    "    x_i : numpy.array\n",
    "        approximate solution of problem P(i), fine grid\n",
    "\n",
    "    Returns\n",
    "    -------\n",
    "    numpy.array\n",
    "        solution to the problem P(i)\n",
    "    \"\"\"\n",
    "    T = system_matrix_1d(i)\n",
    "    \n",
    "    if i == 1:\n",
    "        print(\"MGV called with i = 1\")\n",
    "        x = np.linalg.solve(T, b)\n",
    "        return x\n",
    "    else:\n",
    "        print(\"MGV called with i = \", i)\n",
    "        # Smoothen the approximate solution\n",
    "        x = smooth(x=x, A=T, b=b)\n",
    "        \n",
    "        # Calculate residual\n",
    "        r = np.dot(T, x) - b\n",
    "        \n",
    "        # Restrict the residual to coarser grid\n",
    "        r = restrict(x=r)\n",
    "        \n",
    "        # Solve the correction term d, initial guess at 0\n",
    "        x0 = np.zeros_like(r)\n",
    "        d = MGV(b=r, x=x0, i=i-1)\n",
    "        \n",
    "        # Interpolate to finer grid\n",
    "        d = interpolate(d)\n",
    "        \n",
    "        # Make the correction and smoothen some more\n",
    "        x = x - d\n",
    "        x = smooth(x=x, A=T, b=b)\n",
    "        return x\n",
    "    \n",
    "\n",
    "# Full Multigrid\n",
    "def FMG(f, m):\n",
    "    T, b, t = P(1, f)\n",
    "    x = np.linalg.solve(T, b)\n",
    "    xs = []\n",
    "    bs = []\n",
    "    ts = []\n",
    "    xs.append(x)\n",
    "    bs.append(b)\n",
    "    ts.append(t)\n",
    "    for i in range(2, m):\n",
    "        x_in = interpolate(x)\n",
    "        _, _, t_in = P(i, f)\n",
    "        b_in = f(t_in)\n",
    "        x = MGV(b_in, x_in, i)\n",
    "        xs.append(x)\n",
    "        bs.append(b_in)\n",
    "        ts.append(t_in)\n",
    "    return xs, bs, ts"
   ]
  },
  {
   "cell_type": "code",
   "execution_count": 6,
   "metadata": {},
   "outputs": [],
   "source": [
    "def f(t):\n",
    "    return np.ones_like(t) * 8"
   ]
  },
  {
   "cell_type": "code",
   "execution_count": 34,
   "metadata": {},
   "outputs": [],
   "source": [
    "class PoissonProblem1D:\n",
    "    def __init__(self, f):\n",
    "        self.f = f\n",
    "        self.u = lambda t: -4*t**2+4*t\n",
    "        \n",
    "    def solve_fmg(self, m):\n",
    "        self.xs, self.bs, self.ts = FMG(f=self.f, m=m)\n",
    "        \n",
    "    def plot_correct_solution(self):\n",
    "        plt.figure()\n",
    "        plt.plot(self.ts[-1], self.u(self.ts[-1]))\n",
    "    \n",
    "    def plot_fmg_solution(self):\n",
    "        plt.figure()\n",
    "        plt.plot(self.ts[-1], self.xs[-1])\n",
    "        \n",
    "    def plot_fmg_solution_error(self):\n",
    "        plt.figure()\n",
    "        plt.plot(self.ts[-1], self.xs[-1] - self.u(self.ts[-1]))"
   ]
  },
  {
   "cell_type": "code",
   "execution_count": 35,
   "metadata": {},
   "outputs": [],
   "source": [
    "poisson = PoissonProblem1D(f=f)"
   ]
  },
  {
   "cell_type": "code",
   "execution_count": 36,
   "metadata": {},
   "outputs": [
    {
     "name": "stdout",
     "output_type": "stream",
     "text": [
      "MGV called with i =  2\n",
      "MGV called with i = 1\n",
      "MGV called with i =  3\n",
      "MGV called with i =  2\n",
      "MGV called with i = 1\n",
      "MGV called with i =  4\n",
      "MGV called with i =  3\n",
      "MGV called with i =  2\n",
      "MGV called with i = 1\n",
      "MGV called with i =  5\n",
      "MGV called with i =  4\n",
      "MGV called with i =  3\n",
      "MGV called with i =  2\n",
      "MGV called with i = 1\n",
      "MGV called with i =  6\n",
      "MGV called with i =  5\n",
      "MGV called with i =  4\n",
      "MGV called with i =  3\n",
      "MGV called with i =  2\n",
      "MGV called with i = 1\n",
      "MGV called with i =  7\n",
      "MGV called with i =  6\n",
      "MGV called with i =  5\n",
      "MGV called with i =  4\n",
      "MGV called with i =  3\n",
      "MGV called with i =  2\n",
      "MGV called with i = 1\n"
     ]
    }
   ],
   "source": [
    "poisson.solve_fmg(8)"
   ]
  },
  {
   "cell_type": "markdown",
   "metadata": {},
   "source": [
    "# Solutions"
   ]
  },
  {
   "cell_type": "code",
   "execution_count": 37,
   "metadata": {},
   "outputs": [
    {
     "data": {
      "text/plain": [
       "[array([1.]),\n",
       " array([0.75, 1.  , 0.75]),\n",
       " array([0.43634259, 0.75462963, 0.94097222, 1.01003086, 0.94097222,\n",
       "        0.75462963, 0.43634259]),\n",
       " array([0.23379272, 0.43843355, 0.61045025, 0.75295544, 0.86080747,\n",
       "        0.94104605, 0.98640046, 1.00396519, 0.98640046, 0.94104605,\n",
       "        0.86080747, 0.75295544, 0.61045025, 0.43843355, 0.23379272]),\n",
       " array([0.12090257, 0.23451564, 0.34001139, 0.43813805, 0.52764137,\n",
       "        0.61024157, 0.68411331, 0.75098916, 0.80912166, 0.86035972,\n",
       "        0.90295066, 0.93859331, 0.96552156, 0.98550892, 0.99682029,\n",
       "        1.00118972, 0.99682029, 0.98550892, 0.96552156, 0.93859331,\n",
       "        0.90295066, 0.86035972, 0.80912166, 0.75098916, 0.68411331,\n",
       "        0.61024157, 0.52764137, 0.43813805, 0.34001139, 0.23451564,\n",
       "        0.12090257]),\n",
       " array([0.06147059, 0.12111759, 0.1787361 , 0.23451213, 0.28813591,\n",
       "        0.34003311, 0.38975122, 0.43771978, 0.48350646, 0.52756939,\n",
       "        0.56947099, 0.60963503, 0.64761826, 0.68386507, 0.71793986,\n",
       "        0.7502788 , 0.78043713, 0.80885984, 0.83512095, 0.85964748,\n",
       "        0.88200244, 0.90262116, 0.92107523, 0.93779313, 0.95233319,\n",
       "        0.9651376 , 0.97577667, 0.98467979, 0.99140727, 0.99639942,\n",
       "        0.99922546, 1.00031542, 0.99922546, 0.99639942, 0.99140727,\n",
       "        0.98467979, 0.97577667, 0.9651376 , 0.95233319, 0.93779313,\n",
       "        0.92107523, 0.90262116, 0.88200244, 0.85964748, 0.83512095,\n",
       "        0.80885984, 0.78043713, 0.7502788 , 0.71793986, 0.68386507,\n",
       "        0.64761826, 0.60963503, 0.56947099, 0.52756939, 0.48350646,\n",
       "        0.43771978, 0.38975122, 0.34003311, 0.28813591, 0.23451213,\n",
       "        0.1787361 , 0.12111759, 0.06147059]),\n",
       " array([0.0309922 , 0.06152843, 0.09155746, 0.12112586, 0.15015622,\n",
       "        0.17875486, 0.20680883, 0.23442542, 0.26149682, 0.28813722,\n",
       "        0.31423741, 0.33990314, 0.36502391, 0.3897105 , 0.41385424,\n",
       "        0.43756395, 0.46072883, 0.48345983, 0.50565053, 0.52740746,\n",
       "        0.5486215 , 0.5694015 , 0.58964023, 0.60944489, 0.62870482,\n",
       "        0.64753087, 0.66581534, 0.68366586, 0.70097218, 0.71784459,\n",
       "        0.73417548, 0.75007252, 0.76542495, 0.78034322, 0.79472027,\n",
       "        0.8086634 , 0.8220633 , 0.83502907, 0.84745399, 0.85944483,\n",
       "        0.8708919 , 0.88190492, 0.89237686, 0.90241471, 0.91190901,\n",
       "        0.9209694 , 0.92948851, 0.9375736 , 0.94511436, 0.95222112,\n",
       "        0.95878664, 0.9649182 , 0.97050616, 0.97566007, 0.98027278,\n",
       "        0.98445143, 0.98808588, 0.99128631, 0.99394558, 0.99617082,\n",
       "        0.99785239, 0.99910004, 0.99980632, 1.0000786 , 0.99980632,\n",
       "        0.99910004, 0.99785239, 0.99617082, 0.99394558, 0.99128631,\n",
       "        0.98808588, 0.98445143, 0.98027278, 0.97566007, 0.97050616,\n",
       "        0.9649182 , 0.95878664, 0.95222112, 0.94511436, 0.9375736 ,\n",
       "        0.92948851, 0.9209694 , 0.91190901, 0.90241471, 0.89237686,\n",
       "        0.88190492, 0.8708919 , 0.85944483, 0.84745399, 0.83502907,\n",
       "        0.8220633 , 0.8086634 , 0.79472027, 0.78034322, 0.76542495,\n",
       "        0.75007252, 0.73417548, 0.71784459, 0.70097218, 0.68366586,\n",
       "        0.66581534, 0.64753087, 0.62870482, 0.60944489, 0.58964023,\n",
       "        0.5694015 , 0.5486215 , 0.52740746, 0.50565053, 0.48345983,\n",
       "        0.46072883, 0.43756395, 0.41385424, 0.3897105 , 0.36502391,\n",
       "        0.33990314, 0.31423741, 0.28813722, 0.26149682, 0.23442542,\n",
       "        0.20680883, 0.17875486, 0.15015622, 0.12112586, 0.09155746,\n",
       "        0.06152843, 0.0309922 ])]"
      ]
     },
     "execution_count": 37,
     "metadata": {},
     "output_type": "execute_result"
    }
   ],
   "source": [
    "poisson.xs"
   ]
  },
  {
   "cell_type": "markdown",
   "metadata": {},
   "source": [
    "# Grids"
   ]
  },
  {
   "cell_type": "code",
   "execution_count": 29,
   "metadata": {},
   "outputs": [
    {
     "data": {
      "text/plain": [
       "[array([0.5]),\n",
       " array([0.25, 0.5 , 0.75]),\n",
       " array([0.125, 0.25 , 0.375, 0.5  , 0.625, 0.75 , 0.875]),\n",
       " array([0.0625, 0.125 , 0.1875, 0.25  , 0.3125, 0.375 , 0.4375, 0.5   ,\n",
       "        0.5625, 0.625 , 0.6875, 0.75  , 0.8125, 0.875 , 0.9375]),\n",
       " array([0.03125, 0.0625 , 0.09375, 0.125  , 0.15625, 0.1875 , 0.21875,\n",
       "        0.25   , 0.28125, 0.3125 , 0.34375, 0.375  , 0.40625, 0.4375 ,\n",
       "        0.46875, 0.5    , 0.53125, 0.5625 , 0.59375, 0.625  , 0.65625,\n",
       "        0.6875 , 0.71875, 0.75   , 0.78125, 0.8125 , 0.84375, 0.875  ,\n",
       "        0.90625, 0.9375 , 0.96875])]"
      ]
     },
     "execution_count": 29,
     "metadata": {},
     "output_type": "execute_result"
    }
   ],
   "source": [
    "poisson.ts"
   ]
  },
  {
   "cell_type": "code",
   "execution_count": 38,
   "metadata": {},
   "outputs": [
    {
     "data": {
      "image/png": "[encoded data removed]",
      "text/plain": [
       "<Figure size 432x288 with 1 Axes>"
      ]
     },
     "metadata": {
      "needs_background": "light"
     },
     "output_type": "display_data"
    }
   ],
   "source": [
    "poisson.plot_correct_solution()"
   ]
  },
  {
   "cell_type": "code",
   "execution_count": 39,
   "metadata": {},
   "outputs": [
    {
     "data": {
      "image/png": "[encoded data removed]",
      "text/plain": [
       "<Figure size 432x288 with 1 Axes>"
      ]
     },
     "metadata": {
      "needs_background": "light"
     },
     "output_type": "display_data"
    }
   ],
   "source": [
    "poisson.plot_fmg_solution()"
   ]
  },
  {
   "cell_type": "code",
   "execution_count": 40,
   "metadata": {},
   "outputs": [
    {
     "data": {
      "image/png": "[encoded data removed]",
      "text/plain": [
       "<Figure size 432x288 with 1 Axes>"
      ]
     },
     "metadata": {
      "needs_background": "light"
     },
     "output_type": "display_data"
    }
   ],
   "source": [
    "poisson.plot_fmg_solution_error()"
   ]
  },
  {
   "cell_type": "code",
   "execution_count": null,
   "metadata": {},
   "outputs": [],
   "source": []
  }
 ],
 "metadata": {
  "kernelspec": {
   "display_name": "Python 3",
   "language": "python",
   "name": "python3"
  },
  "language_info": {
   "codemirror_mode": {
    "name": "ipython",
    "version": 3
   },
   "file_extension": ".py",
   "mimetype": "text/x-python",
   "name": "python",
   "nbconvert_exporter": "python",
   "pygments_lexer": "ipython3",
   "version": "3.7.4"
  }
 },
 "nbformat": 4,
 "nbformat_minor": 1
}
