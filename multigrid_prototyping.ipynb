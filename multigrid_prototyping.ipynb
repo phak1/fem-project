{
 "cells": [
  {
   "cell_type": "code",
   "execution_count": 45,
   "metadata": {},
   "outputs": [],
   "source": [
    "import numpy as np\n",
    "import matplotlib.pyplot as plt\n",
    "\n",
    "from utils import smooth, system_matrix_1d\n",
    "from fem_assembly import assembly_1d"
   ]
  },
  {
   "cell_type": "code",
   "execution_count": 46,
   "metadata": {},
   "outputs": [],
   "source": [
    "def restrict(x, sparse=False):\n",
    "    \"\"\"Applies the restriction operator to vector x. \n",
    "\n",
    "    Parameters\n",
    "    ----------\n",
    "    x : numpy.array\n",
    "        vector on finer grid\n",
    "\n",
    "    Returns\n",
    "    ------- \n",
    "    numpy.array\n",
    "        vector on coarse grid\n",
    "    \"\"\"\n",
    "    n = x.shape[0]\n",
    "    nr = int((n-1)/2)\n",
    "    R = np.zeros((nr, n))\n",
    "    R[:,0] = 0.25\n",
    "    R[:,1] = 0.50\n",
    "    R[:,2] = 0.25\n",
    "\n",
    "    # Roll rows of R\n",
    "    r = np.arange(0, 2*R.shape[0], 2)\n",
    "    rows, column_indices = np.ogrid[:R.shape[0], :R.shape[1]]\n",
    "    r[r < 0] += R.shape[1]\n",
    "    column_indices = column_indices - r[:, np.newaxis]\n",
    "    R = R[rows, column_indices]\n",
    "    x_restricted =  np.matmul(R, x)\n",
    "\n",
    "    return x_restricted"
   ]
  },
  {
   "cell_type": "code",
   "execution_count": 47,
   "metadata": {},
   "outputs": [],
   "source": [
    "def interpolate(x, sparse=False):\n",
    "    \"\"\"Applies the interpolation operator to vector x\n",
    "\n",
    "    Parameters\n",
    "    ----------\n",
    "    x : numpy.array\n",
    "        vector on coarse grid\n",
    "\n",
    "    Returns\n",
    "    ------- \n",
    "    numpy.array\n",
    "        vector on fine grid\n",
    "    \"\"\"\n",
    "    # Pad with zeros\n",
    "    x_padded = np.concatenate(([0], x, [0]))\n",
    "    ni = 2*x.shape[0]+1\n",
    "    I = np.zeros((ni, x_padded.shape[0]))\n",
    "    I[::2,0:2] = [0.5, 0.5]\n",
    "    I[1::2,0] = 1\n",
    "\n",
    "    # Roll rows of I\n",
    "    r = np.zeros(I.shape[0]+1)\n",
    "    r[::2] = np.arange((r.shape[0])/2)\n",
    "    r[1::2] = np.arange(r.shape[0]/2)\n",
    "    r = r[1:]\n",
    "\n",
    "    for k in range(r.shape[0]):\n",
    "        I[k,:] = np.roll(I[k,:], int(r[k]))\n",
    "\n",
    "    return np.matmul(I, x_padded)"
   ]
  },
  {
   "cell_type": "code",
   "execution_count": 54,
   "metadata": {},
   "outputs": [],
   "source": [
    "def P(i, f):\n",
    "    \"\"\"Generate the problem for 1-dimensional discrete Poisson equation\n",
    "\n",
    "    Parameters\n",
    "    ----------\n",
    "    i : int\n",
    "        Number of unknowns will be 2**i - 1\n",
    "        \n",
    "    f : function\n",
    "        The load function\n",
    "\n",
    "    Returns\n",
    "    -------\n",
    "    numpy.array\n",
    "        System matrix  \n",
    "    numpy.array\n",
    "        right-hand side\n",
    "    numpy.array\n",
    "        grid\n",
    "    \"\"\"\n",
    "    number_of_points = 2**i + 1\n",
    "    t = np.linspace(0, 1, number_of_points)\n",
    "    \n",
    "    # Generate 1D mesh\n",
    "    n = np.arange(t.shape[0])\n",
    "    n1 = n[0:n.shape[0]-1]\n",
    "    n2 = n[1:]\n",
    "    e = np.transpose(np.vstack((n1, n2)))\n",
    "    \n",
    "    A, b = assembly_1d(f, t, e)\n",
    "    \n",
    "    # Remove boundary nodes\n",
    "    N = A.shape[0]\n",
    "    A = A[1:(N-1), 1:(N-1)]\n",
    "    b = b[1:(N-1)]\n",
    "    \n",
    "    return A, b, t[1:-1]\n",
    "    # T = system_matrix_1d(i)\n",
    "    # b = f(t[1:-1])\n",
    "    # return T, b, t[1:-1]"
   ]
  },
  {
   "cell_type": "code",
   "execution_count": 101,
   "metadata": {},
   "outputs": [],
   "source": [
    "# Multigrid V-cycle\n",
    "def MGV(b, x, i, sn=1):\n",
    "    \"\"\"Recursive Multigrid V-cycle algorithm\n",
    "\n",
    "    Parameters\n",
    "    ----------\n",
    "    b_i : numpy.array\n",
    "        right-hand side of problem P(i), fine grid\n",
    "        \n",
    "    x_i : numpy.array\n",
    "        approximate solution of problem P(i), fine grid\n",
    "    sn : int\n",
    "        number of times smoothing operator is applied on each iteration\n",
    "\n",
    "    Returns\n",
    "    -------\n",
    "    numpy.array\n",
    "        solution to the problem P(i)\n",
    "    \"\"\"\n",
    "    T = system_matrix_1d(i)\n",
    "    \n",
    "    if i == 1:\n",
    "        print(\"MGV called with i = 1\")\n",
    "        x = np.linalg.solve(T, b)\n",
    "        return x\n",
    "    else:\n",
    "        print(\"MGV called with i = \", i)\n",
    "        # Smoothen the approximate solution\n",
    "        for _ in range(sn):\n",
    "            x = smooth(x=x, A=T, b=b)\n",
    "        \n",
    "        # Calculate residual\n",
    "        r = np.dot(T, x) - b\n",
    "        \n",
    "        # Restrict the residual to coarser grid\n",
    "        r = restrict(x=r)\n",
    "        \n",
    "        # Solve the correction term d, initial guess at 0\n",
    "        x0 = np.zeros_like(r)\n",
    "        d = MGV(b=r, x=x0, i=i-1)\n",
    "        \n",
    "        # Interpolate to finer grid\n",
    "        d = interpolate(d)\n",
    "        \n",
    "        # Make the correction and smoothen some more\n",
    "        x = x - d\n",
    "        for _ in range(sn):\n",
    "            x = smooth(x=x, A=T, b=b)\n",
    "        #x = smooth(x=x, A=T, b=b)\n",
    "        return x\n",
    "    \n",
    "\n",
    "# Full Multigrid\n",
    "def FMG(f, m, sn):\n",
    "    T, b, t = P(1, f)\n",
    "    x = np.linalg.solve(T, b)\n",
    "    xs = []\n",
    "    bs = []\n",
    "    ts = []\n",
    "    xs.append(x)\n",
    "    bs.append(b)\n",
    "    ts.append(t)\n",
    "    for i in range(2, m):\n",
    "        x_in = interpolate(x)\n",
    "        _, _, t_in = P(i, f)\n",
    "        b_in = f(t_in)\n",
    "        x = MGV(b_in, x_in, i, sn)\n",
    "        xs.append(x)\n",
    "        bs.append(b_in)\n",
    "        ts.append(t_in)\n",
    "    return xs, bs, ts"
   ]
  },
  {
   "cell_type": "code",
   "execution_count": 102,
   "metadata": {},
   "outputs": [],
   "source": [
    "def f(t):\n",
    "    return np.ones_like(t) * 8\n",
    "\n",
    "u = lambda t: -4*t**2+4*t\n",
    "    "
   ]
  },
  {
   "cell_type": "code",
   "execution_count": 103,
   "metadata": {},
   "outputs": [],
   "source": [
    "class PoissonProblem1D:\n",
    "    \"\"\"Class for solving 1D poisson problem with multigrid method\n",
    "    \n",
    "    Parameters\n",
    "    ----------\n",
    "    f : function\n",
    "        load function\n",
    "    x0 : int\n",
    "        lower boundary\n",
    "    x1 : int\n",
    "        upper boundary\n",
    "    u : function\n",
    "    \"\"\"\n",
    "    def __init__(self, f, x0 = 0.0, x1 = 1.0, u = None):\n",
    "        self.f = f\n",
    "        self.x0 = x0\n",
    "        self.x1 = x1\n",
    "        self.u = u\n",
    "        \n",
    "        self.xs = None\n",
    "        self.bs = None\n",
    "        self.ts = None\n",
    "        \n",
    "    def solve_fmg(self, m, sn):\n",
    "        \"\"\"Solves 1D Poisson problem with full multigrid method\n",
    "        \n",
    "        Parameters\n",
    "        ----------\n",
    "        m : int\n",
    "            Number of gridpoints n = 2**m+1\n",
    "            \n",
    "        sn : int\n",
    "            Number of times smoothing operator is applied on each iteration\n",
    "        \"\"\"\n",
    "        self.xs, self.bs, self.ts = FMG(f=self.f, m=m, sn=sn)\n",
    "        \n",
    "    def plot_correct_solution(self):\n",
    "        \"\"\"Plots the correct solution to the problem.\n",
    "        \"\"\"\n",
    "        plt.figure()\n",
    "        plt.plot(self.ts[-1], self.u(self.ts[-1]))\n",
    "    \n",
    "    def plot_fmg_solution(self):\n",
    "        \"\"\"Plots the solved fmg solution\n",
    "        \"\"\"\n",
    "        plt.figure()\n",
    "        plt.plot(self.ts[-1], self.xs[-1])\n",
    "        \n",
    "    def plot_fmg_solution_error(self):\n",
    "        \"\"\"Plots the error of fmg solution\n",
    "        \"\"\"\n",
    "        plt.figure()\n",
    "        plt.plot(self.ts[-1], self.xs[-1] - self.u(self.ts[-1]))"
   ]
  },
  {
   "cell_type": "code",
   "execution_count": 104,
   "metadata": {},
   "outputs": [],
   "source": [
    "x0 = 0.0\n",
    "x1 = 1.0\n",
    "poisson = PoissonProblem1D(x0=0.0, x1=1.0, f=f, u=u)"
   ]
  },
  {
   "cell_type": "code",
   "execution_count": 123,
   "metadata": {},
   "outputs": [
    {
     "name": "stdout",
     "output_type": "stream",
     "text": [
      "3\n",
      "[0. 0. 0.]\n",
      "5\n",
      "[0. 0. 0. 0. 0.]\n",
      "MGV called with i =  2\n",
      "MGV called with i = 1\n",
      "9\n",
      "[0. 0. 0. 0. 0. 0. 0. 0. 0.]\n",
      "MGV called with i =  3\n",
      "MGV called with i =  2\n",
      "MGV called with i = 1\n",
      "17\n",
      "[0. 0. 0. 0. 0. 0. 0. 0. 0. 0. 0. 0. 0. 0. 0. 0. 0.]\n",
      "MGV called with i =  4\n",
      "MGV called with i =  3\n",
      "MGV called with i =  2\n",
      "MGV called with i = 1\n"
     ]
    }
   ],
   "source": [
    "poisson.solve_fmg(5, sn=5)"
   ]
  },
  {
   "cell_type": "markdown",
   "metadata": {},
   "source": [
    "# Solutions"
   ]
  },
  {
   "cell_type": "code",
   "execution_count": 124,
   "metadata": {},
   "outputs": [
    {
     "data": {
      "text/plain": [
       "[array([1.]),\n",
       " array([0.74791698, 0.99705329, 0.74791698]),\n",
       " array([0.43626819, 0.74772129, 0.93452658, 0.99677775, 0.93452658,\n",
       "        0.74772129, 0.43626819]),\n",
       " array([0.23400972, 0.43682299, 0.60847336, 0.7489604 , 0.85826217,\n",
       "        0.93634782, 0.98320162, 0.99881876, 0.98320162, 0.93634782,\n",
       "        0.85826217, 0.7489604 , 0.60847336, 0.43682299, 0.23400972])]"
      ]
     },
     "execution_count": 124,
     "metadata": {},
     "output_type": "execute_result"
    }
   ],
   "source": [
    "poisson.xs"
   ]
  },
  {
   "cell_type": "markdown",
   "metadata": {},
   "source": [
    "# Grids"
   ]
  },
  {
   "cell_type": "code",
   "execution_count": 125,
   "metadata": {},
   "outputs": [
    {
     "data": {
      "text/plain": [
       "[array([0.5]),\n",
       " array([0.25, 0.5 , 0.75]),\n",
       " array([0.125, 0.25 , 0.375, 0.5  , 0.625, 0.75 , 0.875]),\n",
       " array([0.0625, 0.125 , 0.1875, 0.25  , 0.3125, 0.375 , 0.4375, 0.5   ,\n",
       "        0.5625, 0.625 , 0.6875, 0.75  , 0.8125, 0.875 , 0.9375])]"
      ]
     },
     "execution_count": 125,
     "metadata": {},
     "output_type": "execute_result"
    }
   ],
   "source": [
    "poisson.ts"
   ]
  },
  {
   "cell_type": "code",
   "execution_count": 126,
   "metadata": {},
   "outputs": [
    {
     "data": {
      "image/png": "[encoded data removed]",
      "text/plain": [
       "<Figure size 432x288 with 1 Axes>"
      ]
     },
     "metadata": {
      "needs_background": "light"
     },
     "output_type": "display_data"
    }
   ],
   "source": [
    "poisson.plot_correct_solution()"
   ]
  },
  {
   "cell_type": "code",
   "execution_count": 127,
   "metadata": {},
   "outputs": [
    {
     "data": {
      "image/png": "[encoded data removed]",
      "text/plain": [
       "<Figure size 432x288 with 1 Axes>"
      ]
     },
     "metadata": {
      "needs_background": "light"
     },
     "output_type": "display_data"
    }
   ],
   "source": [
    "poisson.plot_fmg_solution()"
   ]
  },
  {
   "cell_type": "code",
   "execution_count": 128,
   "metadata": {},
   "outputs": [
    {
     "data": {
      "image/png": "[encoded data removed]",
      "text/plain": [
       "<Figure size 432x288 with 1 Axes>"
      ]
     },
     "metadata": {
      "needs_background": "light"
     },
     "output_type": "display_data"
    }
   ],
   "source": [
    "poisson.plot_fmg_solution_error()"
   ]
  }
 ],
 "metadata": {
  "kernelspec": {
   "display_name": "Python 3",
   "language": "python",
   "name": "python3"
  },
  "language_info": {
   "codemirror_mode": {
    "name": "ipython",
    "version": 3
   },
   "file_extension": ".py",
   "mimetype": "text/x-python",
   "name": "python",
   "nbconvert_exporter": "python",
   "pygments_lexer": "ipython3",
   "version": "3.7.4"
  }
 },
 "nbformat": 4,
 "nbformat_minor": 1
}
