{
 "cells": [
  {
   "cell_type": "code",
   "execution_count": 93,
   "metadata": {
    "collapsed": true
   },
   "outputs": [],
   "source": [
    "import numpy as np\n",
    "import matplotlib.pyplot as plt\n",
    "\n",
    "from utils import restrict, interpolate, smooth"
   ]
  },
  {
   "cell_type": "code",
   "execution_count": null,
   "metadata": {
    "collapsed": true
   },
   "outputs": [],
   "source": [
    "# Load function\n",
    "def f(t):\n",
    "    return np.ones_like(t)\n",
    "\n",
    "def P(i):\n",
    "    \"\"\"Generate the problem for 1-dimensional discrete Poisson equaton\n",
    "\n",
    "    Parameters\n",
    "    ----------\n",
    "    i : int\n",
    "        Number of unknowns will be 2**i - 1\n",
    "\n",
    "    Returns\n",
    "    -------\n",
    "    numpy.array\n",
    "        System matrix  \n",
    "    numpy.array\n",
    "        right-hand side\n",
    "    numpy.array\n",
    "        grid\n",
    "    \"\"\"\n",
    "    number_of_points = 2**i + 1\n",
    "    t = np.linspace(0, 1, number_of_points)\n",
    "    T = utils.system_matrix_1d(i)\n",
    "    b = f(t[1:-1])\n",
    "    return T, b, t\n",
    "\n",
    "def solve(i):\n",
    "    T, b, _ = P(i)\n",
    "    x = np.linalg.solve(T, b)\n",
    "    return x, b"
   ]
  },
  {
   "cell_type": "code",
   "execution_count": 102,
   "metadata": {
    "collapsed": true
   },
   "outputs": [],
   "source": [
    "# The problem wrapped into a class\n",
    "class FEMPoissonProblem:\n",
    "    def __init__(self, i):\n",
    "        self.i = i\n",
    "        number_of_points = 2**i + 1\n",
    "        t = np.linspace(0, 1, number_of_points)\n",
    "        T = utils.system_matrix_1d(i)\n",
    "        b = f(t[1:-1])\n",
    "        self.T = T\n",
    "        self.b = b\n",
    "        self.grid = t\n",
    "        \n",
    "    def solve(self):\n",
    "        x = np.linalg.solve(self.T, self.b)\n",
    "        return x, self.b"
   ]
  },
  {
   "cell_type": "code",
   "execution_count": 178,
   "metadata": {
    "collapsed": true
   },
   "outputs": [],
   "source": [
    "# Multigrid V-cycle\n",
    "def MGV(b_i, x_i, i):\n",
    "    \"\"\"Recursive Multigrid V-cycle algorithm\n",
    "\n",
    "    Parameters\n",
    "    ----------\n",
    "    b_i : numpy.array\n",
    "        right-hand side of problem P(i), fine grid\n",
    "        \n",
    "    x_i : numpy.array\n",
    "        solution of problem P(i), fine grid\n",
    "\n",
    "    Returns\n",
    "    -------\n",
    "    numpy.array\n",
    "        right-hand side of P(i)  \n",
    "    numpy.array\n",
    "        solution to the problem P(i)\n",
    "    \"\"\"\n",
    "    if i == 1:\n",
    "        T, b, t = P(1)\n",
    "        x = b/T\n",
    "        return b, x\n",
    "    else:\n",
    "        print(\"MGV called with i =\", i)\n",
    "        T_i, _, t_i = P(i)\n",
    "        x_i = smooth(x=x_i, A=T_i, b=b_i)\n",
    "        print('x_i after smoothing', x_i)\n",
    "        t_i_r, x_i_r = restrict(t=t_i, x=x_i)\n",
    "        print('restricted grid', t_i_r)\n",
    "        print('restricted x', x_i_r)\n",
    "        b_i_r = f(t_i_r)\n",
    "        b_i_1, x_i_1 = MGV(b_i_r, x_i_r, i-1)\n",
    "\n",
    "        t_i, d_i = interpolate(t_i_1, x_mgv)\n",
    "        b_i = f(t_i)\n",
    "        x_i = x_i - d_i\n",
    "        x_i = smooth(x=x_i, A=T_i, b=b_i)\n",
    "        return b_i, x_i\n",
    "    \n",
    "\n",
    "# Full Multigrid\n",
    "def FMG(b_m, x_m, m):\n",
    "    x_i_1, b_i_1  = solve(1)\n",
    "    xs = []\n",
    "    bs = []\n",
    "    xs.append(x_i_1)\n",
    "    bs.append(b_i_1)\n",
    "    for i in range(2, m):\n",
    "        b_In, x_In = interpolate(b_i_1, x_i_1)\n",
    "        x_i, b_i = MGV(b_In, x_In, i)\n",
    "        xs.append(x_i)\n",
    "        bs.append(b_i)"
   ]
  },
  {
   "cell_type": "code",
   "execution_count": 179,
   "metadata": {
    "collapsed": false
   },
   "outputs": [
    {
     "data": {
      "text/plain": [
       "array([0.01513672, 0.02929687, 0.04248047, 0.0546875 , 0.06591797,\n",
       "       0.07617187, 0.08544922, 0.09375   , 0.10107422, 0.10742187,\n",
       "       0.11279297, 0.1171875 , 0.12060547, 0.12304687, 0.12451172,\n",
       "       0.125     , 0.12451172, 0.12304687, 0.12060547, 0.1171875 ,\n",
       "       0.11279297, 0.10742187, 0.10107422, 0.09375   , 0.08544922,\n",
       "       0.07617187, 0.06591797, 0.0546875 , 0.04248047, 0.02929687,\n",
       "       0.01513672])"
      ]
     },
     "execution_count": 179,
     "metadata": {},
     "output_type": "execute_result"
    }
   ],
   "source": [
    "i = 5\n",
    "T, b, t = P(i)\n",
    "x = np.linalg.solve(T, b)\n",
    "x"
   ]
  },
  {
   "cell_type": "code",
   "execution_count": 180,
   "metadata": {
    "collapsed": false
   },
   "outputs": [
    {
     "name": "stdout",
     "output_type": "stream",
     "text": [
      "MGV called with i = 5\n",
      "x_i after smoothing [0.01513672 0.02929687 0.04248047 0.0546875  0.06591797 0.07617187\n",
      " 0.08544922 0.09375    0.10107422 0.10742187 0.11279297 0.1171875\n",
      " 0.12060547 0.12304687 0.12451172 0.125      0.12451172 0.12304687\n",
      " 0.12060547 0.1171875  0.11279297 0.10742187 0.10107422 0.09375\n",
      " 0.08544922 0.07617187 0.06591797 0.0546875  0.04248047 0.02929687\n",
      " 0.01513672]\n",
      "restricted grid [0.03125 0.09375 0.15625 0.21875 0.28125 0.34375 0.40625 0.46875 0.53125\n",
      " 0.59375 0.65625 0.71875 0.78125 0.84375 0.90625]\n",
      "restricted x [0.02905273 0.05444336 0.07592773 0.09350586 0.10717773 0.11694336\n",
      " 0.12280273 0.12475586 0.12280273 0.11694336 0.10717773 0.09350586\n",
      " 0.07592773 0.05444336 0.02905273]\n",
      "MGV called with i = 4\n",
      "x_i after smoothing [0.02913411 0.05444336 0.07592773 0.09350586 0.10717773 0.11694336\n",
      " 0.12280273 0.12475586 0.12280273 0.11694336 0.10717773 0.09350586\n",
      " 0.07592773 0.05444336 0.02913411]\n",
      "restricted grid [0.0625 0.1875 0.3125 0.4375 0.5625 0.6875 0.8125]\n",
      "restricted x [0.05348714 0.0925293  0.1159668  0.1237793  0.1159668  0.0925293\n",
      " 0.05348714]\n",
      "MGV called with i = 3\n",
      "x_i after smoothing [0.05388048 0.09253608 0.1159668  0.1237793  0.1159668  0.09253608\n",
      " 0.05388048]\n",
      "restricted grid [0.125 0.375 0.625]\n",
      "restricted x [0.08872986 0.11987305 0.08872986]\n",
      "MGV called with i = 2\n",
      "x_i after smoothing [0.09036764 0.11994425 0.09036764]\n",
      "restricted grid [0.25]\n",
      "restricted x [0.10515594]\n"
     ]
    },
    {
     "ename": "NameError",
     "evalue": "name 't_i_1' is not defined",
     "output_type": "error",
     "traceback": [
      "\u001b[0;31m---------------------------------------------------------------------------\u001b[0m",
      "\u001b[0;31mNameError\u001b[0m                                 Traceback (most recent call last)",
      "\u001b[0;32m~/fem-project/test.py\u001b[0m in \u001b[0;36m<module>\u001b[0;34m\u001b[0m\n\u001b[0;32m----> 1\u001b[0;31m \u001b[0mMGV\u001b[0m\u001b[0;34m(\u001b[0m\u001b[0mb_i\u001b[0m\u001b[0;34m=\u001b[0m\u001b[0mb\u001b[0m\u001b[0;34m,\u001b[0m \u001b[0mx_i\u001b[0m\u001b[0;34m=\u001b[0m\u001b[0mx\u001b[0m\u001b[0;34m,\u001b[0m \u001b[0mi\u001b[0m\u001b[0;34m=\u001b[0m\u001b[0mi\u001b[0m\u001b[0;34m)\u001b[0m\u001b[0;34m\u001b[0m\u001b[0;34m\u001b[0m\u001b[0m\n\u001b[0m",
      "\u001b[0;32m~/fem-project/test.py\u001b[0m in \u001b[0;36mMGV\u001b[0;34m(b_i, x_i, i)\u001b[0m\n\u001b[1;32m     31\u001b[0m         \u001b[0mprint\u001b[0m\u001b[0;34m(\u001b[0m\u001b[0;34m'restricted x'\u001b[0m\u001b[0;34m,\u001b[0m \u001b[0mx_i_r\u001b[0m\u001b[0;34m)\u001b[0m\u001b[0;34m\u001b[0m\u001b[0;34m\u001b[0m\u001b[0m\n\u001b[1;32m     32\u001b[0m         \u001b[0mb_i_r\u001b[0m \u001b[0;34m=\u001b[0m \u001b[0mf\u001b[0m\u001b[0;34m(\u001b[0m\u001b[0mt_i_r\u001b[0m\u001b[0;34m)\u001b[0m\u001b[0;34m\u001b[0m\u001b[0;34m\u001b[0m\u001b[0m\n\u001b[0;32m---> 33\u001b[0;31m         \u001b[0mb_i_1\u001b[0m\u001b[0;34m,\u001b[0m \u001b[0mx_i_1\u001b[0m \u001b[0;34m=\u001b[0m \u001b[0mMGV\u001b[0m\u001b[0;34m(\u001b[0m\u001b[0mb_i_r\u001b[0m\u001b[0;34m,\u001b[0m \u001b[0mx_i_r\u001b[0m\u001b[0;34m,\u001b[0m \u001b[0mi\u001b[0m\u001b[0;34m-\u001b[0m\u001b[0;36m1\u001b[0m\u001b[0;34m)\u001b[0m\u001b[0;34m\u001b[0m\u001b[0;34m\u001b[0m\u001b[0m\n\u001b[0m\u001b[1;32m     34\u001b[0m \u001b[0;34m\u001b[0m\u001b[0m\n\u001b[1;32m     35\u001b[0m         \u001b[0mt_i\u001b[0m\u001b[0;34m,\u001b[0m \u001b[0md_i\u001b[0m \u001b[0;34m=\u001b[0m \u001b[0minterpolate\u001b[0m\u001b[0;34m(\u001b[0m\u001b[0mt_i_1\u001b[0m\u001b[0;34m,\u001b[0m \u001b[0mx_mgv\u001b[0m\u001b[0;34m)\u001b[0m\u001b[0;34m\u001b[0m\u001b[0;34m\u001b[0m\u001b[0m\n",
      "\u001b[0;32m~/fem-project/test.py\u001b[0m in \u001b[0;36mMGV\u001b[0;34m(b_i, x_i, i)\u001b[0m\n\u001b[1;32m     31\u001b[0m         \u001b[0mprint\u001b[0m\u001b[0;34m(\u001b[0m\u001b[0;34m'restricted x'\u001b[0m\u001b[0;34m,\u001b[0m \u001b[0mx_i_r\u001b[0m\u001b[0;34m)\u001b[0m\u001b[0;34m\u001b[0m\u001b[0;34m\u001b[0m\u001b[0m\n\u001b[1;32m     32\u001b[0m         \u001b[0mb_i_r\u001b[0m \u001b[0;34m=\u001b[0m \u001b[0mf\u001b[0m\u001b[0;34m(\u001b[0m\u001b[0mt_i_r\u001b[0m\u001b[0;34m)\u001b[0m\u001b[0;34m\u001b[0m\u001b[0;34m\u001b[0m\u001b[0m\n\u001b[0;32m---> 33\u001b[0;31m         \u001b[0mb_i_1\u001b[0m\u001b[0;34m,\u001b[0m \u001b[0mx_i_1\u001b[0m \u001b[0;34m=\u001b[0m \u001b[0mMGV\u001b[0m\u001b[0;34m(\u001b[0m\u001b[0mb_i_r\u001b[0m\u001b[0;34m,\u001b[0m \u001b[0mx_i_r\u001b[0m\u001b[0;34m,\u001b[0m \u001b[0mi\u001b[0m\u001b[0;34m-\u001b[0m\u001b[0;36m1\u001b[0m\u001b[0;34m)\u001b[0m\u001b[0;34m\u001b[0m\u001b[0;34m\u001b[0m\u001b[0m\n\u001b[0m\u001b[1;32m     34\u001b[0m \u001b[0;34m\u001b[0m\u001b[0m\n\u001b[1;32m     35\u001b[0m         \u001b[0mt_i\u001b[0m\u001b[0;34m,\u001b[0m \u001b[0md_i\u001b[0m \u001b[0;34m=\u001b[0m \u001b[0minterpolate\u001b[0m\u001b[0;34m(\u001b[0m\u001b[0mt_i_1\u001b[0m\u001b[0;34m,\u001b[0m \u001b[0mx_mgv\u001b[0m\u001b[0;34m)\u001b[0m\u001b[0;34m\u001b[0m\u001b[0;34m\u001b[0m\u001b[0m\n",
      "\u001b[0;32m~/fem-project/test.py\u001b[0m in \u001b[0;36mMGV\u001b[0;34m(b_i, x_i, i)\u001b[0m\n\u001b[1;32m     31\u001b[0m         \u001b[0mprint\u001b[0m\u001b[0;34m(\u001b[0m\u001b[0;34m'restricted x'\u001b[0m\u001b[0;34m,\u001b[0m \u001b[0mx_i_r\u001b[0m\u001b[0;34m)\u001b[0m\u001b[0;34m\u001b[0m\u001b[0;34m\u001b[0m\u001b[0m\n\u001b[1;32m     32\u001b[0m         \u001b[0mb_i_r\u001b[0m \u001b[0;34m=\u001b[0m \u001b[0mf\u001b[0m\u001b[0;34m(\u001b[0m\u001b[0mt_i_r\u001b[0m\u001b[0;34m)\u001b[0m\u001b[0;34m\u001b[0m\u001b[0;34m\u001b[0m\u001b[0m\n\u001b[0;32m---> 33\u001b[0;31m         \u001b[0mb_i_1\u001b[0m\u001b[0;34m,\u001b[0m \u001b[0mx_i_1\u001b[0m \u001b[0;34m=\u001b[0m \u001b[0mMGV\u001b[0m\u001b[0;34m(\u001b[0m\u001b[0mb_i_r\u001b[0m\u001b[0;34m,\u001b[0m \u001b[0mx_i_r\u001b[0m\u001b[0;34m,\u001b[0m \u001b[0mi\u001b[0m\u001b[0;34m-\u001b[0m\u001b[0;36m1\u001b[0m\u001b[0;34m)\u001b[0m\u001b[0;34m\u001b[0m\u001b[0;34m\u001b[0m\u001b[0m\n\u001b[0m\u001b[1;32m     34\u001b[0m \u001b[0;34m\u001b[0m\u001b[0m\n\u001b[1;32m     35\u001b[0m         \u001b[0mt_i\u001b[0m\u001b[0;34m,\u001b[0m \u001b[0md_i\u001b[0m \u001b[0;34m=\u001b[0m \u001b[0minterpolate\u001b[0m\u001b[0;34m(\u001b[0m\u001b[0mt_i_1\u001b[0m\u001b[0;34m,\u001b[0m \u001b[0mx_mgv\u001b[0m\u001b[0;34m)\u001b[0m\u001b[0;34m\u001b[0m\u001b[0;34m\u001b[0m\u001b[0m\n",
      "\u001b[0;32m~/fem-project/test.py\u001b[0m in \u001b[0;36mMGV\u001b[0;34m(b_i, x_i, i)\u001b[0m\n\u001b[1;32m     33\u001b[0m         \u001b[0mb_i_1\u001b[0m\u001b[0;34m,\u001b[0m \u001b[0mx_i_1\u001b[0m \u001b[0;34m=\u001b[0m \u001b[0mMGV\u001b[0m\u001b[0;34m(\u001b[0m\u001b[0mb_i_r\u001b[0m\u001b[0;34m,\u001b[0m \u001b[0mx_i_r\u001b[0m\u001b[0;34m,\u001b[0m \u001b[0mi\u001b[0m\u001b[0;34m-\u001b[0m\u001b[0;36m1\u001b[0m\u001b[0;34m)\u001b[0m\u001b[0;34m\u001b[0m\u001b[0;34m\u001b[0m\u001b[0m\n\u001b[1;32m     34\u001b[0m \u001b[0;34m\u001b[0m\u001b[0m\n\u001b[0;32m---> 35\u001b[0;31m         \u001b[0mt_i\u001b[0m\u001b[0;34m,\u001b[0m \u001b[0md_i\u001b[0m \u001b[0;34m=\u001b[0m \u001b[0minterpolate\u001b[0m\u001b[0;34m(\u001b[0m\u001b[0mt_i_1\u001b[0m\u001b[0;34m,\u001b[0m \u001b[0mx_mgv\u001b[0m\u001b[0;34m)\u001b[0m\u001b[0;34m\u001b[0m\u001b[0;34m\u001b[0m\u001b[0m\n\u001b[0m\u001b[1;32m     36\u001b[0m         \u001b[0mb_i\u001b[0m \u001b[0;34m=\u001b[0m \u001b[0mf\u001b[0m\u001b[0;34m(\u001b[0m\u001b[0mt_i\u001b[0m\u001b[0;34m)\u001b[0m\u001b[0;34m\u001b[0m\u001b[0;34m\u001b[0m\u001b[0m\n\u001b[1;32m     37\u001b[0m         \u001b[0mx_i\u001b[0m \u001b[0;34m=\u001b[0m \u001b[0mx_i\u001b[0m \u001b[0;34m-\u001b[0m \u001b[0md_i\u001b[0m\u001b[0;34m\u001b[0m\u001b[0;34m\u001b[0m\u001b[0m\n",
      "\u001b[0;31mNameError\u001b[0m: name 't_i_1' is not defined"
     ]
    }
   ],
   "source": [
    "MGV(b_i=b, x_i=x, i=i)"
   ]
  },
  {
   "cell_type": "code",
   "execution_count": 143,
   "metadata": {
    "collapsed": false
   },
   "outputs": [],
   "source": [
    "#%run -i \"test.py\"§"
   ]
  }
 ],
 "metadata": {
  "kernelspec": {
   "display_name": "Python (3.7)",
   "language": "python",
   "name": "py37"
  },
  "language_info": {
   "codemirror_mode": {
    "name": "ipython",
    "version": 3
   },
   "file_extension": ".py",
   "mimetype": "text/x-python",
   "name": "python",
   "nbconvert_exporter": "python",
   "pygments_lexer": "ipython3",
   "version": "3.7.5"
  }
 },
 "nbformat": 4,
 "nbformat_minor": 1
}
