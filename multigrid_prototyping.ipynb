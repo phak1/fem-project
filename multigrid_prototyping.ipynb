{
 "cells": [
  {
   "cell_type": "code",
   "execution_count": 8,
   "metadata": {
    "collapsed": true
   },
   "outputs": [],
   "source": [
    "import numpy as np\n",
    "import matplotlib.pyplot as plt\n",
    "\n",
    "from utils import smooth, system_matrix_1d"
   ]
  },
  {
   "cell_type": "code",
   "execution_count": 9,
   "metadata": {
    "collapsed": true
   },
   "outputs": [],
   "source": [
    "def restrict(x, sparse=False):\n",
    "    \"\"\"Applies the restriction operator to vector x. \n",
    "\n",
    "    Parameters\n",
    "    ----------\n",
    "    x : numpy.array\n",
    "        vector on finer grid\n",
    "\n",
    "    Returns\n",
    "    ------- \n",
    "    numpy.array\n",
    "        vector on coarse grid\n",
    "    \"\"\"\n",
    "    n = x.shape[0]\n",
    "    nr = int((n-1)/2)\n",
    "    R = np.zeros((nr, n))\n",
    "    R[:,0] = 0.25\n",
    "    R[:,1] = 0.50\n",
    "    R[:,2] = 0.25\n",
    "\n",
    "    # Roll rows of R\n",
    "    r = np.arange(0, 2*R.shape[0], 2)\n",
    "    rows, column_indices = np.ogrid[:R.shape[0], :R.shape[1]]\n",
    "    r[r < 0] += R.shape[1]\n",
    "    column_indices = column_indices - r[:, np.newaxis]\n",
    "    R = R[rows, column_indices]\n",
    "    x_restricted =  np.matmul(R, x)\n",
    "\n",
    "    return x_restricted"
   ]
  },
  {
   "cell_type": "code",
   "execution_count": 10,
   "metadata": {
    "collapsed": true
   },
   "outputs": [],
   "source": [
    "def interpolate(x, sparse=False):\n",
    "    \"\"\"Applies the interpolation operator to vector x\n",
    "\n",
    "    Parameters\n",
    "    ----------\n",
    "    x : numpy.array\n",
    "        vector on coarse grid\n",
    "\n",
    "    Returns\n",
    "    ------- \n",
    "    numpy.array\n",
    "        vector on fine grid\n",
    "    \"\"\"\n",
    "    # Pad with zeros\n",
    "    x_padded = np.concatenate(([0], x, [0]))\n",
    "    ni = 2*x.shape[0]+1\n",
    "    I = np.zeros((ni, x_padded.shape[0]))\n",
    "    I[::2,0:2] = [0.5, 0.5]\n",
    "    I[1::2,0] = 1\n",
    "\n",
    "    # Roll rows of I\n",
    "    r = np.zeros(I.shape[0]+1)\n",
    "    r[::2] = np.arange((r.shape[0])/2)\n",
    "    r[1::2] = np.arange(r.shape[0]/2)\n",
    "    r = r[1:]\n",
    "\n",
    "    for k in range(r.shape[0]):\n",
    "        I[k,:] = np.roll(I[k,:], int(r[k]))\n",
    "\n",
    "    return np.matmul(I, x_padded)"
   ]
  },
  {
   "cell_type": "code",
   "execution_count": 11,
   "metadata": {
    "collapsed": true
   },
   "outputs": [],
   "source": [
    "def P(i, f):\n",
    "    \"\"\"Generate the problem for 1-dimensional discrete Poisson equation\n",
    "\n",
    "    Parameters\n",
    "    ----------\n",
    "    i : int\n",
    "        Number of unknowns will be 2**i - 1\n",
    "        \n",
    "    f : function\n",
    "        The load function\n",
    "\n",
    "    Returns\n",
    "    -------\n",
    "    numpy.array\n",
    "        System matrix  \n",
    "    numpy.array\n",
    "        right-hand side\n",
    "    numpy.array\n",
    "        grid\n",
    "    \"\"\"\n",
    "    number_of_points = 2**i + 1\n",
    "    t = np.linspace(0, 1, number_of_points)\n",
    "    T = system_matrix_1d(i)\n",
    "    b = f(t[1:-1])\n",
    "    return T, b, t[1:-1]"
   ]
  },
  {
   "cell_type": "code",
   "execution_count": 50,
   "metadata": {
    "collapsed": false
   },
   "outputs": [],
   "source": [
    "# Multigrid V-cycle\n",
    "def MGV(b, x, i):\n",
    "    \"\"\"Recursive Multigrid V-cycle algorithm\n",
    "\n",
    "    Parameters\n",
    "    ----------\n",
    "    b_i : numpy.array\n",
    "        right-hand side of problem P(i), fine grid\n",
    "        \n",
    "    x_i : numpy.array\n",
    "        approximate solution of problem P(i), fine grid\n",
    "\n",
    "    Returns\n",
    "    -------\n",
    "    numpy.array\n",
    "        solution to the problem P(i)\n",
    "    \"\"\"\n",
    "    T = system_matrix_1d(i)\n",
    "    \n",
    "    if i == 1:\n",
    "        print(\"MGV called with i = 1\")\n",
    "        x = np.linalg.solve(T, b)\n",
    "        return x\n",
    "    else:\n",
    "        print(\"MGV called with i = \", i)\n",
    "        # Smoothen the approximate solution\n",
    "        x = smooth(x=x, A=T, b=b)\n",
    "        \n",
    "        # Calculate residual\n",
    "        r = np.dot(T, x) - b\n",
    "        \n",
    "        # Restrict the residual to coarser grid\n",
    "        r = restrict(x=r)\n",
    "        \n",
    "        # Solve the correction term d, initial guess at 0\n",
    "        x0 = np.zeros_like(r)\n",
    "        d = MGV(b=r, x=x0, i=i-1)\n",
    "        \n",
    "        # Interpolate to finer grid\n",
    "        d = interpolate(d)\n",
    "        \n",
    "        # Make the correction and smoothen some more\n",
    "        x = x - d\n",
    "        x = smooth(x=x, A=T, b=b)\n",
    "        return x\n",
    "    \n",
    "\n",
    "# Full Multigrid\n",
    "def FMG(f, m):\n",
    "    T, b, t = P(1, f)\n",
    "    x = np.linalg.solve(T, b)\n",
    "    xs = []\n",
    "    bs = []\n",
    "    ts = []\n",
    "    xs.append(x)\n",
    "    bs.append(b)\n",
    "    ts.append(t)\n",
    "    for i in range(2, m):\n",
    "        x_in = interpolate(x)\n",
    "        _, _, t_in = P(i, f)\n",
    "        b_in = f(t_in)\n",
    "        x = MGV(b_in, x_in, i)\n",
    "        xs.append(x)\n",
    "        bs.append(b_in)\n",
    "        ts.append(t_in)\n",
    "    return xs, bs, ts"
   ]
  },
  {
   "cell_type": "code",
   "execution_count": 61,
   "metadata": {
    "collapsed": false
   },
   "outputs": [],
   "source": [
    "def f(t):\n",
    "    return np.ones_like(t) * 8"
   ]
  },
  {
   "cell_type": "code",
   "execution_count": 64,
   "metadata": {
    "collapsed": true
   },
   "outputs": [],
   "source": [
    "class PoissonProblem1D:\n",
    "    def __init__(self, f):\n",
    "        self.f = f\n",
    "        self.u = lambda t: -4*t**2+4*t\n",
    "        \n",
    "    def solve_fmg(self, m):\n",
    "        self.xs, self.bs, self.ts = FMG(f=self.f, m=m)\n",
    "        \n",
    "    def plot_correct_solution(self):\n",
    "        plt.figure()\n",
    "        plt.plot(self.u(self.ts[-1]))\n",
    "    \n",
    "    def plot_fmg_solution(self):\n",
    "        plt.figure()\n",
    "        plt.plot(self.xs[-1])"
   ]
  },
  {
   "cell_type": "code",
   "execution_count": 65,
   "metadata": {
    "collapsed": true
   },
   "outputs": [],
   "source": [
    "poisson = PoissonProblem1D(f=f)"
   ]
  },
  {
   "cell_type": "code",
   "execution_count": 66,
   "metadata": {
    "collapsed": false
   },
   "outputs": [
    {
     "name": "stdout",
     "output_type": "stream",
     "text": [
      "MGV called with i =  2\n",
      "MGV called with i = 1\n",
      "MGV called with i =  3\n",
      "MGV called with i =  2\n",
      "MGV called with i = 1\n",
      "MGV called with i =  4\n",
      "MGV called with i =  3\n",
      "MGV called with i =  2\n",
      "MGV called with i = 1\n",
      "MGV called with i =  5\n",
      "MGV called with i =  4\n",
      "MGV called with i =  3\n",
      "MGV called with i =  2\n",
      "MGV called with i = 1\n"
     ]
    }
   ],
   "source": [
    "poisson.solve_fmg(6)"
   ]
  },
  {
   "cell_type": "markdown",
   "metadata": {},
   "source": [
    "# Solutions"
   ]
  },
  {
   "cell_type": "code",
   "execution_count": 67,
   "metadata": {
    "collapsed": false
   },
   "outputs": [
    {
     "data": {
      "text/plain": [
       "[array([1.]),\n",
       " array([0.75, 1.  , 0.75]),\n",
       " array([0.43634259, 0.75462963, 0.94097222, 1.01003086, 0.94097222,\n",
       "        0.75462963, 0.43634259]),\n",
       " array([0.23379272, 0.43843355, 0.61045025, 0.75295544, 0.86080747,\n",
       "        0.94104605, 0.98640046, 1.00396519, 0.98640046, 0.94104605,\n",
       "        0.86080747, 0.75295544, 0.61045025, 0.43843355, 0.23379272]),\n",
       " array([0.12090257, 0.23451564, 0.34001139, 0.43813805, 0.52764137,\n",
       "        0.61024157, 0.68411331, 0.75098916, 0.80912166, 0.86035972,\n",
       "        0.90295066, 0.93859331, 0.96552156, 0.98550892, 0.99682029,\n",
       "        1.00118972, 0.99682029, 0.98550892, 0.96552156, 0.93859331,\n",
       "        0.90295066, 0.86035972, 0.80912166, 0.75098916, 0.68411331,\n",
       "        0.61024157, 0.52764137, 0.43813805, 0.34001139, 0.23451564,\n",
       "        0.12090257])]"
      ]
     },
     "execution_count": 67,
     "metadata": {},
     "output_type": "execute_result"
    }
   ],
   "source": [
    "poisson.xs"
   ]
  },
  {
   "cell_type": "markdown",
   "metadata": {},
   "source": [
    "# Grids"
   ]
  },
  {
   "cell_type": "code",
   "execution_count": 68,
   "metadata": {
    "collapsed": false
   },
   "outputs": [
    {
     "data": {
      "text/plain": [
       "[array([0.5]),\n",
       " array([0.25, 0.5 , 0.75]),\n",
       " array([0.125, 0.25 , 0.375, 0.5  , 0.625, 0.75 , 0.875]),\n",
       " array([0.0625, 0.125 , 0.1875, 0.25  , 0.3125, 0.375 , 0.4375, 0.5   ,\n",
       "        0.5625, 0.625 , 0.6875, 0.75  , 0.8125, 0.875 , 0.9375]),\n",
       " array([0.03125, 0.0625 , 0.09375, 0.125  , 0.15625, 0.1875 , 0.21875,\n",
       "        0.25   , 0.28125, 0.3125 , 0.34375, 0.375  , 0.40625, 0.4375 ,\n",
       "        0.46875, 0.5    , 0.53125, 0.5625 , 0.59375, 0.625  , 0.65625,\n",
       "        0.6875 , 0.71875, 0.75   , 0.78125, 0.8125 , 0.84375, 0.875  ,\n",
       "        0.90625, 0.9375 , 0.96875])]"
      ]
     },
     "execution_count": 68,
     "metadata": {},
     "output_type": "execute_result"
    }
   ],
   "source": [
    "poisson.ts"
   ]
  },
  {
   "cell_type": "code",
   "execution_count": 69,
   "metadata": {
    "collapsed": false
   },
   "outputs": [
    {
     "data": {
      "image/png": "[encoded data removed]",
      "text/plain": [
       "<Figure size 432x288 with 1 Axes>"
      ]
     },
     "metadata": {
      "needs_background": "light"
     },
     "output_type": "display_data"
    }
   ],
   "source": [
    "poisson.plot_correct_solution()"
   ]
  },
  {
   "cell_type": "code",
   "execution_count": 70,
   "metadata": {
    "collapsed": false
   },
   "outputs": [
    {
     "data": {
      "image/png": "[encoded data removed]",
      "text/plain": [
       "<Figure size 432x288 with 1 Axes>"
      ]
     },
     "metadata": {
      "needs_background": "light"
     },
     "output_type": "display_data"
    }
   ],
   "source": [
    "poisson.plot_fmg_solution()"
   ]
  }
 ],
 "metadata": {
  "kernelspec": {
   "display_name": "Python (3.7)",
   "language": "python",
   "name": "py37"
  },
  "language_info": {
   "codemirror_mode": {
    "name": "ipython",
    "version": 3
   },
   "file_extension": ".py",
   "mimetype": "text/x-python",
   "name": "python",
   "nbconvert_exporter": "python",
   "pygments_lexer": "ipython3",
   "version": "3.7.5"
  }
 },
 "nbformat": 4,
 "nbformat_minor": 1
}
